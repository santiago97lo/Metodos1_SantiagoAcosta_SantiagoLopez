{
  "nbformat": 4,
  "nbformat_minor": 0,
  "metadata": {
    "colab": {
      "provenance": []
    },
    "kernelspec": {
      "name": "python3",
      "display_name": "Python 3"
    },
    "language_info": {
      "name": "python"
    }
  },
  "cells": [
    {
      "cell_type": "code",
      "execution_count": 1,
      "metadata": {
        "id": "pJsRJOcu5CHd"
      },
      "outputs": [],
      "source": [
        "import numpy as np\n",
        "import matplotlib.pyplot as plt\n",
        "from itertools import permutations\n",
        "from itertools import combinations\n",
        "from itertools import combinations_with_replacement"
      ]
    },
    {
      "cell_type": "markdown",
      "source": [
        "Punto A"
      ],
      "metadata": {
        "id": "PgzujubP7K1u"
      }
    },
    {
      "cell_type": "code",
      "source": [
        "States = np.array([0,1]) \n",
        "Prior =  np.array([0.2,0.8])"
      ],
      "metadata": {
        "id": "6TH_dW2W55CF"
      },
      "execution_count": 2,
      "outputs": []
    },
    {
      "cell_type": "code",
      "source": [
        "T = np.array([[0.8,0.2],[0.2,0.8]])\n",
        "E = np.array([[0.5,0.9],[0.5,0.1]])"
      ],
      "metadata": {
        "id": "6vv2QyVy7Iak"
      },
      "execution_count": 3,
      "outputs": []
    },
    {
      "cell_type": "code",
      "source": [
        "DictH = {0:'Justa',1:'Sesgada'}\n",
        "DictH[0]"
      ],
      "metadata": {
        "colab": {
          "base_uri": "https://localhost:8080/",
          "height": 36
        },
        "id": "mms5i9_E7JVM",
        "outputId": "806008f1-15b3-4faa-b2d0-2fdd3e1e861a"
      },
      "execution_count": 4,
      "outputs": [
        {
          "output_type": "execute_result",
          "data": {
            "text/plain": [
              "'Justa'"
            ],
            "application/vnd.google.colaboratory.intrinsic+json": {
              "type": "string"
            }
          },
          "metadata": {},
          "execution_count": 4
        }
      ]
    },
    {
      "cell_type": "code",
      "source": [
        "DictO = {0:'Cara',1:'Sello'}\n",
        "DictO[1]"
      ],
      "metadata": {
        "colab": {
          "base_uri": "https://localhost:8080/",
          "height": 36
        },
        "id": "N_I2hF4A87Nd",
        "outputId": "d1227e3c-c579-444e-aef0-0fb5fb4a376c"
      },
      "execution_count": 5,
      "outputs": [
        {
          "output_type": "execute_result",
          "data": {
            "text/plain": [
              "'Sello'"
            ],
            "application/vnd.google.colaboratory.intrinsic+json": {
              "type": "string"
            }
          },
          "metadata": {},
          "execution_count": 5
        }
      ]
    },
    {
      "cell_type": "code",
      "source": [
        "Obs = np.array([1,0,0,0,1,0,1,0])"
      ],
      "metadata": {
        "id": "bYDHSqbp89d7"
      },
      "execution_count": 6,
      "outputs": []
    },
    {
      "cell_type": "code",
      "source": [
        "def GetHiddenStates(States, N):\n",
        "    \n",
        "    CStates = list( combinations_with_replacement(States,N) )\n",
        "    \n",
        "    Permu = []\n",
        "    \n",
        "    for it in CStates:\n",
        "        p = list(permutations(it,N))\n",
        "        \n",
        "        for i in p:\n",
        "            if i not in Permu:\n",
        "                Permu.append(i)\n",
        "    \n",
        "    print(CStates)\n",
        "    return np.array(Permu)"
      ],
      "metadata": {
        "id": "0M8-IUYN9Nai"
      },
      "execution_count": 7,
      "outputs": []
    },
    {
      "cell_type": "code",
      "source": [
        "HiddenStates = GetHiddenStates(States,8)\n",
        "HiddenStates"
      ],
      "metadata": {
        "colab": {
          "base_uri": "https://localhost:8080/"
        },
        "id": "WXUvLt0y9dtT",
        "outputId": "3a4d8b9e-61c8-42f8-80d6-41ce6281f4fb"
      },
      "execution_count": 8,
      "outputs": [
        {
          "output_type": "stream",
          "name": "stdout",
          "text": [
            "[(0, 0, 0, 0, 0, 0, 0, 0), (0, 0, 0, 0, 0, 0, 0, 1), (0, 0, 0, 0, 0, 0, 1, 1), (0, 0, 0, 0, 0, 1, 1, 1), (0, 0, 0, 0, 1, 1, 1, 1), (0, 0, 0, 1, 1, 1, 1, 1), (0, 0, 1, 1, 1, 1, 1, 1), (0, 1, 1, 1, 1, 1, 1, 1), (1, 1, 1, 1, 1, 1, 1, 1)]\n"
          ]
        },
        {
          "output_type": "execute_result",
          "data": {
            "text/plain": [
              "array([[0, 0, 0, ..., 0, 0, 0],\n",
              "       [0, 0, 0, ..., 0, 0, 1],\n",
              "       [0, 0, 0, ..., 0, 1, 0],\n",
              "       ...,\n",
              "       [1, 1, 1, ..., 1, 0, 1],\n",
              "       [1, 1, 1, ..., 1, 1, 0],\n",
              "       [1, 1, 1, ..., 1, 1, 1]])"
            ]
          },
          "metadata": {},
          "execution_count": 8
        }
      ]
    },
    {
      "cell_type": "markdown",
      "source": [
        "Punto B"
      ],
      "metadata": {
        "id": "V6Zkkdh4ZpxJ"
      }
    },
    {
      "cell_type": "code",
      "source": [
        "def GetProb(T,E,Obs,State,Prior):\n",
        "    \n",
        "    n = len(Obs)\n",
        "    p = 1.\n",
        "    \n",
        "    p *= Prior[State[0] ]\n",
        "    \n",
        "    for i in range(n-1):\n",
        "        p *= T[ State[i+1], State[i] ]\n",
        "    \n",
        "    \n",
        "    \n",
        "    for i in range(n):\n",
        "        p *= E[ Obs[i], State[i] ]\n",
        "    \n",
        "    return p"
      ],
      "metadata": {
        "id": "CbwXRoL5Aarp"
      },
      "execution_count": 9,
      "outputs": []
    },
    {
      "cell_type": "code",
      "source": [
        "dim = HiddenStates.shape[0]\n",
        "P = np.zeros(dim)\n",
        "\n",
        "for i in range(dim):\n",
        "    P[i] = GetProb(T,E,Obs,HiddenStates[i],Prior)"
      ],
      "metadata": {
        "id": "PSHga58QD3pw"
      },
      "execution_count": 15,
      "outputs": []
    },
    {
      "cell_type": "code",
      "source": [
        "PObs = np.sum(P)\n",
        "print(PObs)"
      ],
      "metadata": {
        "colab": {
          "base_uri": "https://localhost:8080/"
        },
        "id": "GEF-jqvIEIp5",
        "outputId": "67b83a59-ea09-4170-a997-5c182afbbd1f"
      },
      "execution_count": 11,
      "outputs": [
        {
          "output_type": "stream",
          "name": "stdout",
          "text": [
            "0.0019344381513984013\n"
          ]
        }
      ]
    },
    {
      "cell_type": "code",
      "source": [
        "max_P = np.max(P)\n",
        "ii = np.where( P == np.amax(P))\n",
        "print(HiddenStates[ii],max_P)"
      ],
      "metadata": {
        "colab": {
          "base_uri": "https://localhost:8080/"
        },
        "id": "spaevZCTEUAZ",
        "outputId": "0dfde0a6-8790-4d0e-b36a-5d2e3c5ab8f2"
      },
      "execution_count": 25,
      "outputs": [
        {
          "output_type": "stream",
          "name": "stdout",
          "text": [
            "[[1 1 1 1 0 0 0 0]] 0.0001911029760000001\n"
          ]
        }
      ]
    },
    {
      "cell_type": "code",
      "source": [
        "plt.plot(P,color='k')\n",
        "plt.axhline(y=maxP,color='r')\n",
        "plt.legend(['Probabilidad por secuencia','MaxP = 0.00019'])\n",
        "plt.grid(axis='both')"
      ],
      "metadata": {
        "colab": {
          "base_uri": "https://localhost:8080/",
          "height": 269
        },
        "id": "tw8iLRFYEXbR",
        "outputId": "d311dc71-4b81-4161-a2e6-d0c7082c0beb"
      },
      "execution_count": 13,
      "outputs": [
        {
          "output_type": "display_data",
          "data": {
            "text/plain": [
              "<Figure size 432x288 with 1 Axes>"
            ],
            "image/png": "[encoded data removed]"
          },
          "metadata": {
            "needs_background": "light"
          }
        }
      ]
    },
    {
      "cell_type": "markdown",
      "source": [
        "Punto C"
      ],
      "metadata": {
        "id": "ChEnILboOSFz"
      }
    },
    {
      "cell_type": "code",
      "source": [
        "\n",
        "ObsStates = GetHiddenStates(States,8)\n",
        "\n",
        "NObs = ObsStates.shape[0]\n",
        "\n",
        "PObs = np.zeros(NObs)\n",
        "\n",
        "for j in range(NObs):\n",
        "    \n",
        "    dim = HiddenStates.shape[0]\n",
        "    Prob = np.zeros(dim)\n",
        "    \n",
        "    for i in range(dim):\n",
        "        Prob[i] = GetProb(T,E,ObsStates[j],HiddenStates[i],Prior)\n",
        "        \n",
        "    PObs[j] = np.sum(Prob)\n",
        "\n"
      ],
      "metadata": {
        "id": "LBfYfqsuFFo5",
        "colab": {
          "base_uri": "https://localhost:8080/"
        },
        "outputId": "eca6a3a7-df40-4313-d7b2-7989f7585a7d"
      },
      "execution_count": 20,
      "outputs": [
        {
          "output_type": "stream",
          "name": "stdout",
          "text": [
            "[(0, 0, 0, 0, 0, 0, 0, 0), (0, 0, 0, 0, 0, 0, 0, 1), (0, 0, 0, 0, 0, 0, 1, 1), (0, 0, 0, 0, 0, 1, 1, 1), (0, 0, 0, 0, 1, 1, 1, 1), (0, 0, 0, 1, 1, 1, 1, 1), (0, 0, 1, 1, 1, 1, 1, 1), (0, 1, 1, 1, 1, 1, 1, 1), (1, 1, 1, 1, 1, 1, 1, 1)]\n"
          ]
        }
      ]
    },
    {
      "cell_type": "code",
      "source": [
        "max_P2 = np.max(PObs)\n",
        "ii_2 = np.where( PObs == np.amax(PObs))\n",
        "print( f'Estados Observables: {ObsStates[ii_2]}')\n",
        "print( f'Probabilidad máxima: {max_P2}')"
      ],
      "metadata": {
        "colab": {
          "base_uri": "https://localhost:8080/"
        },
        "id": "9N1clzoMdLRp",
        "outputId": "396be90c-383e-4202-c2af-3a9df93ff29b"
      },
      "execution_count": 34,
      "outputs": [
        {
          "output_type": "stream",
          "name": "stdout",
          "text": [
            "Estados Observables: [[0 0 0 0 0 0 0 0]]\n",
            "Probabilidad máxima: 0.13698241367042568\n"
          ]
        }
      ]
    },
    {
      "cell_type": "code",
      "source": [
        "plt.plot(PObs)\n",
        "np.sum(PObs)\n",
        "plt.grid(axis ='both')\n",
        "plt.axhline(y = max_P2, color='r')\n",
        "plt.legend(['Probabilidad de cada estado observable' , 'MaxP = 0.1369'])\n",
        "plt.show()"
      ],
      "metadata": {
        "colab": {
          "base_uri": "https://localhost:8080/",
          "height": 265
        },
        "id": "pD7ySAOdczn7",
        "outputId": "ef9e7961-8c6d-4055-ab51-5150353f697a"
      },
      "execution_count": 36,
      "outputs": [
        {
          "output_type": "display_data",
          "data": {
            "text/plain": [
              "<Figure size 432x288 with 1 Axes>"
            ],
            "image/png": "[encoded data removed]"
          },
          "metadata": {
            "needs_background": "light"
          }
        }
      ]
    },
    {
      "cell_type": "markdown",
      "source": [
        "Punto D"
      ],
      "metadata": {
        "id": "Sum1-dLhOUxv"
      }
    },
    {
      "cell_type": "code",
      "source": [
        "sum_total = np.sum(PObs)\n",
        "\n",
        "print(sum_total)"
      ],
      "metadata": {
        "colab": {
          "base_uri": "https://localhost:8080/"
        },
        "id": "Y-4RIhHzOWzB",
        "outputId": "85d6c20b-ccda-4050-8a32-f421f399e52e"
      },
      "execution_count": 39,
      "outputs": [
        {
          "output_type": "stream",
          "name": "stdout",
          "text": [
            "1.0000000000000007\n"
          ]
        }
      ]
    },
    {
      "cell_type": "markdown",
      "source": [
        "Punto E"
      ],
      "metadata": {
        "id": "U7tdskqWOalo"
      }
    },
    {
      "cell_type": "markdown",
      "source": [
        "\n",
        "\n",
        "¿Depende el resultado de la probabilidad a-priori?\n",
        "\n",
        "El resultado si depende de la probabilidad a-priori dado que esta distribución tiene en cuenta los valores iniciales propuestos para la elaboración del método. De acuerdo a esto  se puede decir que de igual manera la probabilidad de las secuencias dependera si el valor de la probabilidad a-priori es alterado. "
      ],
      "metadata": {
        "id": "Avp7qkhSgx5s"
      }
    }
  ]
}