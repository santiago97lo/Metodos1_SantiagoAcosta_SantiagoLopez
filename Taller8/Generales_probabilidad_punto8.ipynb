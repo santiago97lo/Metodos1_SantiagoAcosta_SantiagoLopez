{
  "nbformat": 4,
  "nbformat_minor": 0,
  "metadata": {
    "colab": {
      "provenance": [],
      "collapsed_sections": []
    },
    "kernelspec": {
      "name": "python3",
      "display_name": "Python 3"
    },
    "language_info": {
      "name": "python"
    }
  },
  "cells": [
    {
      "cell_type": "code",
      "execution_count": 1,
      "metadata": {
        "id": "6W1gtDcnLYSp"
      },
      "outputs": [],
      "source": [
        "import numpy as np"
      ]
    },
    {
      "cell_type": "code",
      "source": [
        "monedas = 4\n",
        "numero_eventos = 10**5\n",
        "sucesos = [1,-1]\n",
        "\n",
        "muestra = np.zeros((numero_eventos, monedas))"
      ],
      "metadata": {
        "id": "XfZYePCDLdRa"
      },
      "execution_count": 29,
      "outputs": []
    },
    {
      "cell_type": "code",
      "source": [
        "count = 0\n",
        "\n",
        "for i in range(len(muestra)):\n",
        "    \n",
        "     cara = 0\n",
        "     \n",
        "     for j in range(monedas):\n",
        "        \n",
        "         if muestra[i][j] == 1:\n",
        "            cara += 1\n",
        "\n",
        "     if cara == 2:\n",
        "          count += 1\n",
        "\n",
        "\n",
        "print(count/numero_eventos)"
      ],
      "metadata": {
        "colab": {
          "base_uri": "https://localhost:8080/"
        },
        "id": "PMtm7TUhLnin",
        "outputId": "696f1d78-33d1-487a-a6ca-51ffca034ce8"
      },
      "execution_count": 28,
      "outputs": [
        {
          "output_type": "stream",
          "name": "stdout",
          "text": [
            "0.3742\n"
          ]
        }
      ]
    },
    {
      "cell_type": "code",
      "source": [],
      "metadata": {
        "id": "WtM1hqYZMaaM"
      },
      "execution_count": null,
      "outputs": []
    }
  ]
}